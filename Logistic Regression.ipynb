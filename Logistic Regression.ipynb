{
 "cells": [
  {
   "cell_type": "code",
   "execution_count": 13,
   "metadata": {},
   "outputs": [],
   "source": [
    "from sklearn import datasets\n",
    "from sklearn.model_selection import train_test_split\n",
    "import numpy as np"
   ]
  },
  {
   "cell_type": "code",
   "execution_count": 26,
   "metadata": {},
   "outputs": [],
   "source": [
    "class LogisticRegression:\n",
    "    def __init__(self,learning_rate=0.000001,iteration=1000):\n",
    "        self.learning_rate = learning_rate\n",
    "        self.iteration = iteration\n",
    "        self.gradient = None\n",
    "        self.intercept = None\n",
    "        \n",
    "    def sigmoid(self,z):\n",
    "        return 1/(1+np.exp(-z))\n",
    "        \n",
    "    def train(self,x,y):\n",
    "        n_samples,n_features = x.shape\n",
    "        self.gradient = np.zeros(n_features)\n",
    "        self.intercept = 0\n",
    "        \n",
    "        for _ in range(n_samples):\n",
    "            y_predicted = np.dot(x,self.gradient) + self.intercept\n",
    "            new_y_predicted = self.sigmoid(y_predicted)\n",
    "            \n",
    "            dg = (1/n_samples)*np.dot(x.T,(new_y_predicted - y))\n",
    "            di  = (1/n_samples)*np.sum(new_y_predicted - y)\n",
    "            \n",
    "            self.gradient -= self.learning_rate* dg\n",
    "            self.intercept -= self.learning_rate*di\n",
    "            \n",
    "    def predict(self,x):\n",
    "        y_predicted = np.dot(x,self.gradient) + self.intercept\n",
    "        new_y_predicted = self.sigmoid(y_predicted)\n",
    "        for i in range(len(new_y_predicted)):\n",
    "            if new_y_predicted[i] >= 0.5:\n",
    "                new_y_predicted[i] = 1\n",
    "            else:\n",
    "                new_y_predicted[i] = 0\n",
    "        return np.array(new_y_predicted)\n",
    "        \n",
    "        "
   ]
  },
  {
   "cell_type": "code",
   "execution_count": 27,
   "metadata": {},
   "outputs": [],
   "source": [
    "bc = datasets.load_breast_cancer()\n",
    "X, y = bc.data, bc.target\n",
    "\n",
    "X_train, X_test, y_train, y_test = train_test_split(\n",
    "    X, y, test_size=0.2, random_state=1234\n",
    ")\n"
   ]
  },
  {
   "cell_type": "code",
   "execution_count": 32,
   "metadata": {},
   "outputs": [
    {
     "data": {
      "text/plain": [
       "(114,)"
      ]
     },
     "execution_count": 32,
     "metadata": {},
     "output_type": "execute_result"
    }
   ],
   "source": [
    "reg = LogisticRegression()\n",
    "reg.train(X_train,y_train)\n",
    "reg.predict(X_test)"
   ]
  },
  {
   "cell_type": "code",
   "execution_count": 30,
   "metadata": {},
   "outputs": [
    {
     "data": {
      "text/plain": [
       "array([1, 1, 1, 1, 1, 1, 0, 1, 0, 0, 0, 1, 1, 1, 1, 0, 1, 1, 1, 0, 1, 0,\n",
       "       0, 0, 0, 1, 0, 1, 1, 1, 1, 1, 0, 1, 1, 1, 1, 0, 0, 1, 0, 1, 0, 1,\n",
       "       1, 1, 1, 0, 0, 1, 1, 1, 1, 0, 0, 1, 1, 1, 1, 0, 1, 1, 1, 1, 1, 0,\n",
       "       0, 1, 1, 0, 1, 0, 1, 0, 1, 1, 1, 0, 1, 0, 1, 1, 1, 0, 0, 0, 0, 0,\n",
       "       1, 0, 1, 0, 1, 0, 0, 1, 1, 1, 1, 1, 0, 0, 1, 1, 0, 1, 1, 0, 0, 1,\n",
       "       0, 1, 0, 0])"
      ]
     },
     "execution_count": 30,
     "metadata": {},
     "output_type": "execute_result"
    }
   ],
   "source": []
  },
  {
   "cell_type": "code",
   "execution_count": null,
   "metadata": {},
   "outputs": [],
   "source": []
  }
 ],
 "metadata": {
  "kernelspec": {
   "display_name": "Python 3",
   "language": "python",
   "name": "python3"
  },
  "language_info": {
   "codemirror_mode": {
    "name": "ipython",
    "version": 3
   },
   "file_extension": ".py",
   "mimetype": "text/x-python",
   "name": "python",
   "nbconvert_exporter": "python",
   "pygments_lexer": "ipython3",
   "version": "3.8.5"
  }
 },
 "nbformat": 4,
 "nbformat_minor": 4
}
