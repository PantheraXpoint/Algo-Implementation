{
 "cells": [
  {
   "cell_type": "code",
   "execution_count": 86,
   "metadata": {},
   "outputs": [],
   "source": [
    "import numpy as np\n",
    "import copy\n",
    "import math\n",
    "import random\n",
    "from collections import defaultdict\n",
    "import itertools\n",
    "import csv"
   ]
  },
  {
   "cell_type": "code",
   "execution_count": 2,
   "metadata": {},
   "outputs": [],
   "source": [
    "class Vec:\n",
    "    def __init__(self,x_pos,y_pos):\n",
    "        self.x = x_pos\n",
    "        self.y = y_pos\n",
    "        \n",
    "    def __hash__(self):\n",
    "        return hash((self.x, self.y))\n",
    "    \n",
    "    def __eq__(self, other):\n",
    "        if (isinstance(other, Vec)):\n",
    "            return self.x == other.x and self.y == other.y\n",
    "        return False"
   ]
  },
  {
   "cell_type": "code",
   "execution_count": 3,
   "metadata": {},
   "outputs": [],
   "source": [
    "class AABB:\n",
    "    def __init__(self,obj_bl,obj_tr):\n",
    "        self.tr = obj_tr\n",
    "        self.bl = obj_bl\n",
    "    def __hash__(self):\n",
    "        return hash((self.tr, self.bl))\n",
    "    \n",
    "    def __eq__(self, other):\n",
    "        if (isinstance(other, AABB)):\n",
    "            return self.tr == other.tr and self.bl == other.bl\n",
    "        return False"
   ]
  },
  {
   "cell_type": "code",
   "execution_count": 4,
   "metadata": {},
   "outputs": [],
   "source": [
    "def cellSizeCalc(list_AABBs):\n",
    "    max_x,max_y = 0,0\n",
    "    for aabb in list_AABBs:\n",
    "        if (aabb.tr.x > max_x):\n",
    "            max_x = aabb.tr.x\n",
    "        if (aabb.tr.y > max_y):\n",
    "            max_y = aabb.tr.y\n",
    "    cellSize = float(max_x / len(list_AABBs)) if max_x < max_y else float(max_y / len(list_AABBs))\n",
    "    return cellSize,max_y,max_x"
   ]
  },
  {
   "cell_type": "code",
   "execution_count": 5,
   "metadata": {},
   "outputs": [],
   "source": [
    "def check_collision(here,another):\n",
    "    return not (another.bl.x > here.tr.x or another.tr.x < here.bl.x or another.tr.y < here.bl.y or another.bl.y > here.tr.y)"
   ]
  },
  {
   "cell_type": "code",
   "execution_count": 6,
   "metadata": {},
   "outputs": [],
   "source": [
    "class Cell:\n",
    "    def __init__(self):\n",
    "        self.list_AABBs_idxs = []\n",
    "    def appendCell(self,AABB_obj_idx):\n",
    "        self.list_AABBs.append(AABB_obj_idx)\n",
    "    def removeCell(self,AABB_obj_idx):\n",
    "        self.list_AABBs.remove(AABB_obj_idx)\n",
    "    def getObj(self):\n",
    "        return self.list_AABBs_idxs\n",
    "    "
   ]
  },
  {
   "cell_type": "code",
   "execution_count": 84,
   "metadata": {},
   "outputs": [],
   "source": [
    "class Grid:\n",
    "    def __init__(self,list_AABBs):\n",
    "        self.list_AABBs = list_AABBs\n",
    "        self.cellSize,self.height,self.width = cellSizeCalc(list_AABBs)\n",
    "        self.numXCells = math.ceil(float(self.width / self.cellSize))\n",
    "        self.numYCells = math.ceil(float(self.height / self.cellSize))\n",
    "        self.list_cells = [[Cell() for j in range(self.numXCells+1)] for i in range(self.numYCells+1)]\n",
    "        self.obj_dict = defaultdict(list)\n",
    "        self.list_ret = []\n",
    "    def AABBtoCell(self,AABB_obj_idx):\n",
    "        upper_y = int(self.list_AABBs[AABB_obj_idx].tr.y / self.cellSize) + 1 if self.list_AABBs[AABB_obj_idx].tr.y % self.cellSize == 0 else int(self.list_AABBs[AABB_obj_idx].tr.y / self.cellSize)\n",
    "        lower_y = int(self.list_AABBs[AABB_obj_idx].bl.y / self.cellSize) + 1 if self.list_AABBs[AABB_obj_idx].bl.y % self.cellSize == 0 else int(self.list_AABBs[AABB_obj_idx].bl.y / self.cellSize)\n",
    "        upper_x = int(self.list_AABBs[AABB_obj_idx].tr.x / self.cellSize) + 1 if self.list_AABBs[AABB_obj_idx].tr.x % self.cellSize == 0 else int(self.list_AABBs[AABB_obj_idx].tr.x / self.cellSize)\n",
    "        lower_x = int(self.list_AABBs[AABB_obj_idx].bl.x / self.cellSize) + 1 if self.list_AABBs[AABB_obj_idx].bl.x % self.cellSize == 0 else int(self.list_AABBs[AABB_obj_idx].bl.x / self.cellSize)\n",
    "        if lower_x == upper_x:\n",
    "            upper_x += 1\n",
    "        if lower_y == upper_y:\n",
    "            upper_y += 1\n",
    "        for i in range(lower_y,upper_y):\n",
    "            for j in range(lower_x,upper_x):\n",
    "                self.list_cells[i][j].appendCell(AABB_obj_idx)\n",
    "                self.obj_dict[AABB_obj_idx].append([i,j])\n",
    "                    \n",
    "    def AABBoutCell(self,AABB_obj_idx):\n",
    "        for i in self.obj_dict[AABB_obj_idx]:\n",
    "            self.list_cells[i[0]][i[1]].removeCell(AABB_obj_idx)\n",
    "        \n",
    "    def processing(self):\n",
    "        for i in range(len(self.list_AABBs)):\n",
    "            self.AABBtoCell(i)\n",
    "            \n",
    "        for key,val in self.obj_dict.items():\n",
    "            for cell in val:\n",
    "                for obj in self.list_cells[cell[0]][cell[1]].getObj():\n",
    "                    if (obj == key):\n",
    "                        continue\n",
    "                    if (check_collision(self.list_AABBs[key],self.list_AABBs[obj])):\n",
    "                        self.list_ret.append([key,obj])\n",
    "            self.AABBoutCell(key)\n",
    "#             print(self.list_ret, \"\\n\\n\\n\")\n",
    "        return set(tuple(x) for x in self.list_ret)\n",
    "        \n",
    "        "
   ]
  },
  {
   "cell_type": "code",
   "execution_count": 93,
   "metadata": {},
   "outputs": [
    {
     "name": "stdout",
     "output_type": "stream",
     "text": [
      "23 13 28 25\n",
      "14 18 26 21\n",
      "12 14 28 22\n",
      "4 1 13 2\n",
      "24 7 29 26\n",
      "19 5 25 27\n",
      "17 1 27 23\n",
      "5 22 24 28\n",
      "19 16 23 22\n",
      "1 23 25 28\n"
     ]
    }
   ],
   "source": [
    "list_AABBs = []\n",
    "for i in range(10):\n",
    "    init_bl_x = np.random.randint(1,25)\n",
    "    init_bl_y = np.random.randint(1,25)\n",
    "    list_AABBs.append(AABB(Vec(init_bl_x,init_bl_y),Vec(np.random.randint(init_bl_x,30),np.random.randint(init_bl_y,30))))\n",
    "\n",
    "for i in list_AABBs:\n",
    "    print(i.bl.x,i.bl.y,i.tr.x,i.tr.y)\n",
    "test_grid = Grid(list_AABBs)\n",
    "output = test_grid.processing()"
   ]
  },
  {
   "cell_type": "code",
   "execution_count": 95,
   "metadata": {},
   "outputs": [],
   "source": [
    "file = open('out.csv', 'w+', newline ='') \n",
    "with file:     \n",
    "    write = csv.writer(file) \n",
    "    for i in output:\n",
    "        write.writerow(i) "
   ]
  },
  {
   "cell_type": "code",
   "execution_count": null,
   "metadata": {},
   "outputs": [],
   "source": []
  }
 ],
 "metadata": {
  "kernelspec": {
   "display_name": "Python 3 (ipykernel)",
   "language": "python",
   "name": "python3"
  },
  "language_info": {
   "codemirror_mode": {
    "name": "ipython",
    "version": 3
   },
   "file_extension": ".py",
   "mimetype": "text/x-python",
   "name": "python",
   "nbconvert_exporter": "python",
   "pygments_lexer": "ipython3",
   "version": "3.10.4"
  }
 },
 "nbformat": 4,
 "nbformat_minor": 4
}
