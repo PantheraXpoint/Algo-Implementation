{
 "cells": [
  {
   "cell_type": "code",
   "execution_count": 43,
   "metadata": {},
   "outputs": [],
   "source": [
    "import numpy as np\n",
    "import math\n",
    "import copy"
   ]
  },
  {
   "cell_type": "code",
   "execution_count": 44,
   "metadata": {},
   "outputs": [],
   "source": [
    "def checkSquare(matrix):\n",
    "    rows,cols = matrix.shape\n",
    "    if row != cols:\n",
    "        return False\n",
    "    return True"
   ]
  },
  {
   "cell_type": "code",
   "execution_count": 45,
   "metadata": {},
   "outputs": [],
   "source": [
    "def subMatrix(matrix,ith_row):\n",
    "    newMatrix = copy.deepcopy(matrix)\n",
    "    newMatrix = np.delete(newMatrix,ith_row,axis = 0)\n",
    "    n_rows, n_cols = newMatrix.shape\n",
    "    newMatrix = newMatrix[0:n_rows,1:]\n",
    "    return newMatrix"
   ]
  },
  {
   "cell_type": "code",
   "execution_count": 46,
   "metadata": {},
   "outputs": [],
   "source": [
    "def detCalc(matrix):\n",
    "    rows,cols = matrix.shape\n",
    "    if rows == 2:\n",
    "        return (matrix[0][0] * matrix[1][1]) - (matrix[1][0] * matrix[0][1])\n",
    "    else:\n",
    "        ret = 0\n",
    "        for i in range(rows):\n",
    "            co_eff = 1 if i%2==0 else -1\n",
    "            ret += (co_eff * matrix[i][0] * detCalc(subMatrix(matrix,i)))\n",
    "        return ret\n",
    "    "
   ]
  },
  {
   "cell_type": "code",
   "execution_count": 53,
   "metadata": {},
   "outputs": [
    {
     "name": "stdout",
     "output_type": "stream",
     "text": [
      "Enter columns number: 4\n",
      "Enter rows number: 4\n"
     ]
    }
   ],
   "source": [
    "n_col = int(input(\"Enter columns number: \"))\n",
    "n_row = int(input(\"Enter rows number: \"))\n",
    "inp_mat = np.random.randint(1,99,size=(n_row,n_col))"
   ]
  },
  {
   "cell_type": "code",
   "execution_count": 54,
   "metadata": {},
   "outputs": [
    {
     "data": {
      "text/plain": [
       "array([[21, 82, 70,  1],\n",
       "       [92, 43, 89, 86],\n",
       "       [47,  4, 97, 49],\n",
       "       [ 7, 14, 91, 29]])"
      ]
     },
     "execution_count": 54,
     "metadata": {},
     "output_type": "execute_result"
    }
   ],
   "source": [
    "inp_mat"
   ]
  },
  {
   "cell_type": "code",
   "execution_count": 55,
   "metadata": {},
   "outputs": [
    {
     "data": {
      "text/plain": [
       "-10486192"
      ]
     },
     "execution_count": 55,
     "metadata": {},
     "output_type": "execute_result"
    }
   ],
   "source": [
    "detCalc(inp_mat)"
   ]
  },
  {
   "cell_type": "code",
   "execution_count": null,
   "metadata": {},
   "outputs": [],
   "source": []
  }
 ],
 "metadata": {
  "kernelspec": {
   "display_name": "Python 3 (ipykernel)",
   "language": "python",
   "name": "python3"
  },
  "language_info": {
   "codemirror_mode": {
    "name": "ipython",
    "version": 3
   },
   "file_extension": ".py",
   "mimetype": "text/x-python",
   "name": "python",
   "nbconvert_exporter": "python",
   "pygments_lexer": "ipython3",
   "version": "3.10.4"
  }
 },
 "nbformat": 4,
 "nbformat_minor": 4
}
