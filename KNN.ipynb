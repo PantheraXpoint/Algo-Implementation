{
 "cells": [
  {
   "cell_type": "code",
   "execution_count": 22,
   "metadata": {},
   "outputs": [],
   "source": [
    "from sklearn import datasets\n",
    "import math\n",
    "from collections import Counter\n",
    "import numpy as np"
   ]
  },
  {
   "cell_type": "code",
   "execution_count": 66,
   "metadata": {},
   "outputs": [],
   "source": [
    "class KNN:\n",
    "    def __init__(self,k=10):\n",
    "        self.k = k\n",
    "        \n",
    "    def euclidean_distance(self,neighbor,target):\n",
    "        result = math.sqrt(np.sum((neighbor - target)**2))\n",
    "        return result\n",
    "    \n",
    "    def train(self,x,y):\n",
    "        self.x = x\n",
    "        self.y = y\n",
    "        \n",
    "    def predict(self,X):\n",
    "        n_samples,n_features = self.x.shape\n",
    "        distances = np.zeros(n_samples)\n",
    "        for i in range(n_samples):\n",
    "            distances[i] = self.euclidean_distance(self.x[i],X)\n",
    "        K = distances.argsort()[-self.k:]\n",
    "        for i in range(len(K)):\n",
    "            K[i] = self.y[K[i]]\n",
    "            \n",
    "        print(K)\n",
    "        \n",
    "        occurence_count = Counter(K)\n",
    "        return occurence_count.most_common(1)[0][0]\n",
    "        \n",
    "        \n",
    "        \n",
    "    "
   ]
  },
  {
   "cell_type": "code",
   "execution_count": 67,
   "metadata": {},
   "outputs": [
    {
     "name": "stdout",
     "output_type": "stream",
     "text": [
      "[2 2 2 2 2 2 2 2 2 2]\n"
     ]
    },
    {
     "data": {
      "text/plain": [
       "2"
      ]
     },
     "execution_count": 67,
     "metadata": {},
     "output_type": "execute_result"
    }
   ],
   "source": [
    "iris = datasets.load_iris()\n",
    "X, y = iris.data, iris.target\n",
    "test = np.array([4.0, 2.0, 1.0, 0.3])\n",
    "\n",
    "knn = KNN()\n",
    "knn.train(X,y)\n",
    "knn.predict(test)"
   ]
  },
  {
   "cell_type": "code",
   "execution_count": null,
   "metadata": {},
   "outputs": [],
   "source": []
  }
 ],
 "metadata": {
  "kernelspec": {
   "display_name": "Python 3",
   "language": "python",
   "name": "python3"
  },
  "language_info": {
   "codemirror_mode": {
    "name": "ipython",
    "version": 3
   },
   "file_extension": ".py",
   "mimetype": "text/x-python",
   "name": "python",
   "nbconvert_exporter": "python",
   "pygments_lexer": "ipython3",
   "version": "3.8.5"
  }
 },
 "nbformat": 4,
 "nbformat_minor": 4
}
