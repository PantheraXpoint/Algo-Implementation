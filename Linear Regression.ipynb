{
 "cells": [
  {
   "cell_type": "code",
   "execution_count": 2,
   "metadata": {},
   "outputs": [],
   "source": [
    "import numpy as np"
   ]
  },
  {
   "cell_type": "code",
   "execution_count": 9,
   "metadata": {},
   "outputs": [],
   "source": [
    "class LinearRegression:\n",
    "    def __init__(self,learning_rate=0.00000001,iteration=100):\n",
    "        self.learning_rate = learning_rate\n",
    "        self.iteration = iteration\n",
    "        self.gradient = None\n",
    "        self.intercept = None\n",
    "        \n",
    "    def fit(self,x,y):\n",
    "        n_samples,n_features = x.shape\n",
    "        self.gradient = np.zeros(n_features)\n",
    "        self.intercept = 0\n",
    "        for _ in range(self.iteration):\n",
    "            y_predicted = np.dot(x,self.gradient) + self.intercept\n",
    "            \n",
    "            dg = (1/n_samples)* np.dot(x.T,(y_predicted - y))\n",
    "            di = (1/n_samples) * np.sum(y_predicted - y)\n",
    "            \n",
    "            self.gradient -= self.learning_rate*dg\n",
    "            self.intercept -= self.learning_rate*di\n",
    "            \n",
    "    def predict(self,x):\n",
    "        return np.dot(x,self.gradient) + self.intercept\n",
    "            "
   ]
  },
  {
   "cell_type": "code",
   "execution_count": 10,
   "metadata": {},
   "outputs": [
    {
     "data": {
      "text/plain": [
       "array([676761.93769042, 751957.70214975])"
      ]
     },
     "execution_count": 10,
     "metadata": {},
     "output_type": "execute_result"
    }
   ],
   "source": [
    "x = np.array([[2800],[3000],[3200],[3600],[4000]])\n",
    "y = np.array([550000,565000,610000,680000,725000])\n",
    "reg= LinearRegression()\n",
    "reg.fit(x,y)\n",
    "ret = reg.predict(np.array([[3600],[4000]]))\n",
    "ret"
   ]
  },
  {
   "cell_type": "code",
   "execution_count": null,
   "metadata": {},
   "outputs": [],
   "source": []
  }
 ],
 "metadata": {
  "kernelspec": {
   "display_name": "Python 3",
   "language": "python",
   "name": "python3"
  },
  "language_info": {
   "codemirror_mode": {
    "name": "ipython",
    "version": 3
   },
   "file_extension": ".py",
   "mimetype": "text/x-python",
   "name": "python",
   "nbconvert_exporter": "python",
   "pygments_lexer": "ipython3",
   "version": "3.8.5"
  }
 },
 "nbformat": 4,
 "nbformat_minor": 4
}
