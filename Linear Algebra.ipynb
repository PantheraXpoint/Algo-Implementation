{
 "cells": [
  {
   "cell_type": "code",
   "execution_count": 106,
   "metadata": {},
   "outputs": [],
   "source": [
    "import numpy as np\n",
    "import copy\n",
    "import math"
   ]
  },
  {
   "cell_type": "code",
   "execution_count": 107,
   "metadata": {},
   "outputs": [],
   "source": [
    "def reformInput(matA,matB):\n",
    "    mat_AT = np.transpose(matA)\n",
    "    leftMat = np.dot(mat_AT,matA)\n",
    "    rightMat = np.dot(mat_AT,matB)\n",
    "    return leftMat,rightMat"
   ]
  },
  {
   "cell_type": "code",
   "execution_count": 108,
   "metadata": {},
   "outputs": [],
   "source": [
    "def diagonalDominant(matA):\n",
    "    for row in range(len(matA)):\n",
    "        diag_ele = abs(matA[row][row])\n",
    "        Sum = 0\n",
    "        for ele in range(len(matA[row])):\n",
    "            if ele == row:\n",
    "                continue\n",
    "            Sum += abs(matA[row][ele])\n",
    "        if Sum > diag_ele:\n",
    "            return False\n",
    "    return True\n",
    "            \n",
    "            "
   ]
  },
  {
   "cell_type": "code",
   "execution_count": 115,
   "metadata": {},
   "outputs": [],
   "source": [
    "def gauss_seidel(matA,matB,n_iter):\n",
    "    n_rowsA,n_colsA = matA.shape\n",
    "    n_rowsB,n_colsB = matB.shape\n",
    "    matL = copy.deepcopy(matA)\n",
    "    matU = copy.deepcopy(matA)\n",
    "    epxilon = 1e-09\n",
    "    for i in range(len(matA)):\n",
    "        matL[i][(i+1):] = 0\n",
    "        matU[i][:(i+1)] = 0\n",
    "    matT = np.dot(-1*np.linalg.inv(matL),matU)\n",
    "    matC = np.dot(np.linalg.inv(matL),matB)\n",
    "    x0 = np.ones((n_colsA,n_colsB))\n",
    "    list_ret = []\n",
    "    list_ret.append(x0)\n",
    "    for i in range(n_iter):\n",
    "        list_ret.append(np.dot(matT,list_ret[0]) + matC)\n",
    "        if np.all(np.divide(abs(list_ret[1] - list_ret[0]),abs(list_ret[0])) < epxilon):\n",
    "            list_ret.pop(0)\n",
    "            break\n",
    "        list_ret.pop(0)\n",
    "    return list_ret[0]"
   ]
  },
  {
   "cell_type": "code",
   "execution_count": 138,
   "metadata": {},
   "outputs": [
    {
     "name": "stdout",
     "output_type": "stream",
     "text": [
      "Enter rows number for matrix A: 3\n",
      "Enter columns number for matrix A: 3\n"
     ]
    }
   ],
   "source": [
    "n_rowA = int(input(\"Enter rows number for matrix A: \"))\n",
    "n_colA = int(input(\"Enter columns number for matrix A: \"))\n",
    "inp_matA = np.random.randint(1,99,size=(n_rowA,n_colA))"
   ]
  },
  {
   "cell_type": "code",
   "execution_count": 139,
   "metadata": {},
   "outputs": [],
   "source": [
    "inp_matB = np.random.randint(1,99,size=(n_rowA,1))"
   ]
  },
  {
   "cell_type": "code",
   "execution_count": 140,
   "metadata": {},
   "outputs": [
    {
     "data": {
      "text/plain": [
       "array([[75,  5, 58],\n",
       "       [35, 22, 52],\n",
       "       [76, 36, 51]])"
      ]
     },
     "execution_count": 140,
     "metadata": {},
     "output_type": "execute_result"
    }
   ],
   "source": [
    "inp_matA "
   ]
  },
  {
   "cell_type": "code",
   "execution_count": 141,
   "metadata": {},
   "outputs": [
    {
     "data": {
      "text/plain": [
       "array([[46],\n",
       "       [86],\n",
       "       [83]])"
      ]
     },
     "execution_count": 141,
     "metadata": {},
     "output_type": "execute_result"
    }
   ],
   "source": [
    "inp_matB"
   ]
  },
  {
   "cell_type": "code",
   "execution_count": 142,
   "metadata": {},
   "outputs": [],
   "source": [
    "leftMat,rightMat = reformInput(inp_matA,inp_matB)"
   ]
  },
  {
   "cell_type": "code",
   "execution_count": 143,
   "metadata": {},
   "outputs": [
    {
     "data": {
      "text/plain": [
       "array([[12626,  3881, 10046],\n",
       "       [ 3881,  1805,  3270],\n",
       "       [10046,  3270,  8669]])"
      ]
     },
     "execution_count": 143,
     "metadata": {},
     "output_type": "execute_result"
    }
   ],
   "source": [
    "leftMat"
   ]
  },
  {
   "cell_type": "code",
   "execution_count": 144,
   "metadata": {},
   "outputs": [
    {
     "data": {
      "text/plain": [
       "array([[12768],\n",
       "       [ 5110],\n",
       "       [11373]])"
      ]
     },
     "execution_count": 144,
     "metadata": {},
     "output_type": "execute_result"
    }
   ],
   "source": [
    "rightMat"
   ]
  },
  {
   "cell_type": "code",
   "execution_count": 145,
   "metadata": {},
   "outputs": [
    {
     "data": {
      "text/plain": [
       "array([[-0.55993997],\n",
       "       [ 1.52451992],\n",
       "       [ 1.38573963]])"
      ]
     },
     "execution_count": 145,
     "metadata": {},
     "output_type": "execute_result"
    }
   ],
   "source": [
    "gauss_seidel(leftMat,rightMat,1000)"
   ]
  },
  {
   "cell_type": "code",
   "execution_count": 146,
   "metadata": {},
   "outputs": [
    {
     "data": {
      "text/plain": [
       "array([[ 2.31580190e+286],\n",
       "       [ 3.79277118e+286],\n",
       "       [-6.12824915e+286]])"
      ]
     },
     "execution_count": 146,
     "metadata": {},
     "output_type": "execute_result"
    }
   ],
   "source": [
    "gauss_seidel(inp_matA,inp_matB,1000)"
   ]
  },
  {
   "cell_type": "code",
   "execution_count": null,
   "metadata": {},
   "outputs": [],
   "source": []
  }
 ],
 "metadata": {
  "kernelspec": {
   "display_name": "Python 3 (ipykernel)",
   "language": "python",
   "name": "python3"
  },
  "language_info": {
   "codemirror_mode": {
    "name": "ipython",
    "version": 3
   },
   "file_extension": ".py",
   "mimetype": "text/x-python",
   "name": "python",
   "nbconvert_exporter": "python",
   "pygments_lexer": "ipython3",
   "version": "3.10.4"
  }
 },
 "nbformat": 4,
 "nbformat_minor": 4
}
